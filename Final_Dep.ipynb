{
 "cells": [
  {
   "cell_type": "code",
   "execution_count": 19,
   "id": "FytwQUftCUhF",
   "metadata": {
    "colab": {
     "base_uri": "https://localhost:8080/"
    },
    "id": "FytwQUftCUhF",
    "outputId": "26f89063-ad98-4a69-e885-fe421bdbf5fe"
   },
   "outputs": [],
   "source": [
    "import anvil.server\n",
    "\n",
    "anvil.server.connect(\"GRKV4EIO5RDXHXRKLH4IJZS3-BJUSERB54JPU2SV2\")"
   ]
  },
  {
   "cell_type": "code",
   "execution_count": 20,
   "id": "286d7423",
   "metadata": {
    "id": "286d7423"
   },
   "outputs": [],
   "source": [
    "import re, os, collections, itertools, uuid, logging\n",
    "import scipy as sp\n",
    "import collections\n",
    "collections.Callable = collections.abc.Callable\n",
    "from datetime import date\n",
    "import arrow\n",
    "import pyproj\n",
    "import geopandas\n",
    "import time\n",
    "import imageio\n",
    "from PIL import Image\n",
    "from fastai.basics import *\n",
    "import joblib\n",
    "from io import FileIO\n",
    "import numpy\n",
    "import pandas as pd\n",
    "from ipywidgets import widgets\n",
    "from IPython.display import display\n",
    "import ee\n",
    "from shapely.geometry import Point"
   ]
  },
  {
   "cell_type": "markdown",
   "id": "k6uWj-arecK1",
   "metadata": {
    "id": "k6uWj-arecK1"
   },
   "source": [
    "## Initialising Stuff\n"
   ]
  },
  {
   "cell_type": "code",
   "execution_count": 21,
   "id": "8f56b987",
   "metadata": {
    "colab": {
     "base_uri": "https://localhost:8080/"
    },
    "id": "8f56b987",
    "outputId": "0b06f0fc-a74c-494e-b6a9-1a05f37911cd"
   },
   "outputs": [
    {
     "data": {
      "text/html": [
       "<p>To authorize access needed by Earth Engine, open the following\n",
       "        URL in a web browser and follow the instructions:</p>\n",
       "        <p><a href=https://code.earthengine.google.com/client-auth?scopes=https%3A//www.googleapis.com/auth/earthengine%20https%3A//www.googleapis.com/auth/devstorage.full_control&request_id=RLEDYL-FJ1MzrNdsgtuUtjqODzzVmLRQgp8lFUl4Bck&tc=8AnnpSm0bNposOhfBkpiWI-u_-_EP0vBwzfmX-E5_Hs&cc=hTb1vHd_LxK3_HgTorsRQWHYHC_nDo_pL1Eml1ztlDk>https://code.earthengine.google.com/client-auth?scopes=https%3A//www.googleapis.com/auth/earthengine%20https%3A//www.googleapis.com/auth/devstorage.full_control&request_id=RLEDYL-FJ1MzrNdsgtuUtjqODzzVmLRQgp8lFUl4Bck&tc=8AnnpSm0bNposOhfBkpiWI-u_-_EP0vBwzfmX-E5_Hs&cc=hTb1vHd_LxK3_HgTorsRQWHYHC_nDo_pL1Eml1ztlDk</a></p>\n",
       "        <p>The authorization workflow will generate a code, which you\n",
       "        should paste in the box below</p>\n",
       "        "
      ],
      "text/plain": [
       "<IPython.core.display.HTML object>"
      ]
     },
     "metadata": {},
     "output_type": "display_data"
    },
    {
     "name": "stdin",
     "output_type": "stream",
     "text": [
      "Enter verification code:  4/1AVHEtk6OqwWFEETTJXQlWjN6k7Vqgp8lxhEgGjh0xGLAk2cz801objns_Jc\n"
     ]
    },
    {
     "name": "stdout",
     "output_type": "stream",
     "text": [
      "\n",
      "Successfully saved authorization token.\n",
      "2022-10-16\n",
      "39900.0\n"
     ]
    }
   ],
   "source": [
    "ee.Authenticate()\n",
    "ee.Initialize()\n",
    "\n",
    "helper_dir = str(Path('data/').absolute())\n",
    "if helper_dir not in os.sys.path:\n",
    "    os.sys.path.append(helper_dir)\n",
    "from leak_helpers.earth_engine import display_ee, bands_s2, download_image, bands_s2, bands_s1, bands_l7, bands_l8\n",
    "today = date.today()\n",
    "\n",
    "repo_date_ts = arrow.get(today)\n",
    "chec_date = repo_date_ts.shift(weeks=-24)\n",
    "repo_date_ts = repo_date_ts.format('YYYY-MM-DD')\n",
    "chec_date = chec_date.format('YYYY-MM-DD')\n",
    "print(chec_date)\n",
    "\n",
    "crs_grid = 3857\n",
    "notebook_name='testing_earth_engine-l7-AUTX'\n",
    "ts=arrow.utcnow().format('YYYYMMDD-HH-mm-ss')\n",
    "data_dir = Path('data/')\n",
    "bands = bands_l7\n",
    "\n",
    "# since the lowest res band is 60m and I want to capture neighbours I should get 6+ pixels\n",
    "pixel_length = 400\n",
    "resolution_min = 200 # m\n",
    "time_bin_delta = 60*60*24*28 # how long before a leak to look (in seconds)\n",
    "# TODO get closest but let me filter for time\n",
    "\n",
    "# init\n",
    "temp_dir = Path(tempfile.mkdtemp(prefix=notebook_name+'-', suffix='-'+ts))\n",
    "# output_dir = data_dir.joinpath('{ts:}_{notebook_name:}'.format(ts=ts,notebook_name=notebook_name))\n",
    "output_dir = Path('data/images')\n",
    "cache_dir = output_dir.joinpath('ee_l7_AUTX-leaks_cache_v2')\n",
    "\n",
    "output_dir.mkdir(parents=True, exist_ok=True)\n",
    "temp_dir.mkdir(parents=True, exist_ok=True)\n",
    "cache_dir.mkdir(parents=True, exist_ok=True)\n",
    "\n",
    "logger = logging.getLogger(notebook_name)\n",
    "logger.setLevel(logging.WARN)\n",
    "\n",
    "crs_grid_proj = pyproj.Proj('epsg:%s'%crs_grid)\n",
    "\n",
    "temp_dir, output_dir, cache_dir\n",
    "\n",
    "distance = resolution_min*(pixel_length/2.0-0.5)\n",
    "print(distance)"
   ]
  },
  {
   "cell_type": "code",
   "execution_count": 22,
   "id": "2746c90a",
   "metadata": {
    "id": "2746c90a"
   },
   "outputs": [],
   "source": [
    "def get_boundary(leak, distance=100, maxError=None):\n",
    "    \"\"\"get rectangular around geopandas point\"\"\"\n",
    "    # coords = np.array(leak.geometry.values[0].xy)[:, 0].tolist()\n",
    "    # geom = ee.Geometry.Point(coords)\n",
    "    # boundary = ee.Geometry.buffer(geometry=geom, distance=distance, maxError=maxError)\n",
    "    # rect = boundary.bounds()\n",
    "\n",
    "    # Here we make a boundary in wgs84 that will make an exact rectangle in\n",
    "    # epsg 3857 (aux sphere) so we will get a rectangle when we clip the image\n",
    "    point_aux = np.array(leak.geometry.to_crs(epsg=3857).values[0].xy)[:, 0]\n",
    "    xMin, yMin, xMax, yMax = point_aux[0] - distance, point_aux[1] - distance, point_aux[0] + distance, point_aux[1] + distance\n",
    "\n",
    "    # convert to wgs8\n",
    "    p0 = pyproj.Proj(init='epsg:%s' % 4326)\n",
    "    p1 = pyproj.Proj(init='epsg:%s' % 3857)\n",
    "    bound_grid2 = pyproj.transform(p1, p0, [xMin, xMax], [yMin, yMax])\n",
    "    bound_grid2 = np.array(bound_grid2).T\n",
    "    [xMin, yMin], [xMax, yMax] = bound_grid2.min(0), bound_grid2.max(0)\n",
    "\n",
    "    # make into earth engine rec\n",
    "    rect = ee.Geometry.Rectangle([xMin, yMin, xMax, yMax])\n",
    "    return rect"
   ]
  },
  {
   "cell_type": "code",
   "execution_count": 23,
   "id": "48ab4bdc",
   "metadata": {
    "id": "48ab4bdc"
   },
   "outputs": [],
   "source": [
    "def tifs2np(path, files, pixel_length=None, bands=bands_s2):\n",
    "    \"\"\"Convert tifs to numpy array\"\"\"\n",
    "    tifs = [f for f in files if f.endswith('.tif')]\n",
    "\n",
    "    if pixel_length:\n",
    "        pixel_length = int(pixel_length)\n",
    "\n",
    "    channels = {}\n",
    "    for tif in tifs:\n",
    "        band = tif.split('.')[-2]\n",
    "        # read tif as float32\n",
    "        x = imageio.imread(path.joinpath(tif))\n",
    "        if pixel_length:\n",
    "            if x.shape[-2] != pixel_length or x.shape[-1] != pixel_length:\n",
    "                logger.warn('warning had to reshape band %s from %s to %s' % (band, x.shape, pixel_length))\n",
    "                x = sp.misc.imresize(x, size=(pixel_length, pixel_length), interp='cubic', mode='F')\n",
    "        channels[band] = x\n",
    "\n",
    "    if not pixel_length:\n",
    "        pixel_length = x.shape[1]\n",
    "\n",
    "    logger.debug('keys %s', (channels.keys()))\n",
    "    data = []\n",
    "    for band in bands:\n",
    "        if band not in channels:\n",
    "            channels[band] = np.zeros((pixel_length, pixel_length))\n",
    "        data.append(channels[band])\n",
    "    return np.array(data)"
   ]
  },
  {
   "cell_type": "code",
   "execution_count": 24,
   "id": "WPdkZNuzwMoi",
   "metadata": {
    "id": "WPdkZNuzwMoi"
   },
   "outputs": [],
   "source": [
    "def download_image(clipped_image, scale=10, crs=4326, name=None, cache_dir=temp_dir, progress_bar=False, report=False):\n",
    "    \"\"\"Download image from google earth engine\"\"\"\n",
    "\n",
    "    # TODO add progress bar like https://github.com/fchollet/keras/blob/master/keras/utils/data_utils.py#L103\n",
    "    path = clipped_image.getDownloadURL({\n",
    "        'scale': scale,\n",
    "        'crs': 'EPSG:%s' % crs\n",
    "    })\n",
    "    if name is None:\n",
    "        name = clipped_image.getMapId()['mapid']\n",
    "\n",
    "    # TODO check that it's not too big, but we don't get given clipped size\n",
    "\n",
    "    filename = '{name:}_{crs:}_{scale:}'.format(\n",
    "        name=name, scale=scale, crs=crs)\n",
    "    zip_dwn_file = temp_dir.joinpath(filename + '.zip')\n",
    "    if report:\n",
    "        with tqdm(\n",
    "                unit='B', unit_scale=True, miniters=1, mininterval=1,\n",
    "                desc=path.split('/')[-1][:40]) as t:  # all optional kwargs\n",
    "            zip_dwn_file, r = urllib.request.urlretrieve(\n",
    "                path, zip_dwn_file, reporthook=my_hook(t))\n",
    "    else:\n",
    "        zip_dwn_file, r = urllib.request.urlretrieve(path, zip_dwn_file)\n",
    "    zip_dwn_file\n",
    "\n",
    "    # extract\n",
    "    zfile = zipfile.ZipFile(zip_dwn_file)\n",
    "    extract_dir = cache_dir.joinpath(filename)\n",
    "    zfile.extractall(extract_dir)\n",
    "    #     logger.debug(extract_dir, zip_dwn_file)\n",
    "\n",
    "    files = [str(f.relpath(extract_dir)) for f in extract_dir.iterdir()]\n",
    "    logger.debug('Extracted files %s to %s', files, str(extract_dir))\n",
    "    return extract_dir, files"
   ]
  },
  {
   "cell_type": "markdown",
   "id": "frmQDLkfdcC9",
   "metadata": {
    "id": "frmQDLkfdcC9"
   },
   "source": [
    "## Loading Leaks from Anvil."
   ]
  },
  {
   "cell_type": "code",
   "execution_count": 25,
   "id": "Psz25E8Fe3h7",
   "metadata": {
    "id": "Psz25E8Fe3h7"
   },
   "outputs": [],
   "source": [
    "@anvil.server.callable\n",
    "def load_leak(co_X, co_Y):\n",
    "  X=float(co_X)\n",
    "  Y=float(co_Y)\n",
    "  d = {'col1': ['name1'], 'geometry': [Point(X, Y)]}\n",
    "  gdf = geopandas.GeoDataFrame(d, crs=4326)\n",
    "  gdf\n",
    "  boundary = get_boundary(gdf.geometry, distance=distance)\n",
    "  print(boundary)\n",
    "  sentinel2_before = (ee.ImageCollection('LANDSAT/LE07/C02/T1_RT')\n",
    "        .filterBounds(ee.Geometry.Point(float(X),float(Y)))\n",
    "        .filterDate(chec_date, repo_date_ts)\n",
    "        .sort('system:time_start', opt_ascending=False)\n",
    "       )\n",
    "  image = ee.Image(sentinel2_before.first()).clip(boundary)\n",
    "  print(image.getInfo())\n",
    "  name='test'\n",
    "  path,files=download_image(\n",
    "      image, \n",
    "      scale=resolution_min, \n",
    "      crs=crs_grid, \n",
    "      name=name,\n",
    "      cache_dir=cache_dir\n",
    "  )\n",
    "  data = tifs2np(path,files,bands=bands_l7)\n",
    "  # imgpth = Path('data/images/ee_l7_AUTX-leaks_cache_v2/test_3857_200/').absolute()\n",
    "  # for i in imgpth.glob('*B5.tif'):\n",
    "  #   imgpth = Path(i).absolute()\n",
    "  # print(imgpth)\n",
    "  # im = Image.open(imgpth) \n",
    "  # show_image(im)\n",
    "  # newpath = Path('/content/drive/Othercomputers/My Laptop (1)/Academics/PS-1/ok/export.pkl').absolute()\n",
    "  # newerpath= Path('/content/drive/Othercomputers/My Laptop (1)/Academics/PS-1/imahges/ee_l7_AUTX-leaks_cache_v2/test_3857_200/LE07_138045_20220404.B5.tif').absolute()\n",
    "  return True"
   ]
  },
  {
   "cell_type": "markdown",
   "id": "tUDyzvSFgMn5",
   "metadata": {
    "id": "tUDyzvSFgMn5"
   },
   "source": [
    "##Predicting the leak"
   ]
  },
  {
   "cell_type": "code",
   "execution_count": 26,
   "id": "46868cd6",
   "metadata": {
    "id": "46868cd6"
   },
   "outputs": [],
   "source": [
    "@anvil.server.callable\n",
    "def predict_leak():\n",
    "  time.sleep(5)\n",
    "  newpath = Path('data/export.pkl').absolute()\n",
    "  newerpath = Path('data/images/ee_l7_AUTX-leaks_cache_v2/test_3857_200').absolute()\n",
    "  for i in newerpath.glob('*B5.tif'):\n",
    "    newerpath = Path(i).absolute()\n",
    "  print(newerpath)\n",
    "  learn_inf = load_learner(newpath)\n",
    "  pred,pred_idx,probs = learn_inf.predict(newerpath)\n",
    "  lbl_pred = widgets.Label()\n",
    "  print(\"in predict leak\")\n",
    "  lbl_pred.value = f'Prediction: {pred}; Probability: {probs[pred_idx]:.04f}'\n",
    "  lbl_pred\n",
    "  return pred"
   ]
  },
  {
   "cell_type": "code",
   "execution_count": null,
   "id": "1517ae04",
   "metadata": {
    "colab": {
     "background_save": true,
     "base_uri": "https://localhost:8080/",
     "height": 1000
    },
    "id": "1517ae04",
    "outputId": "9ccb7ad7-4736-4734-b4ae-58866b160dc4"
   },
   "outputs": [],
   "source": [
    "anvil.server.wait_forever()"
   ]
  }
 ],
 "metadata": {
  "colab": {
   "name": "Final_Dep.ipynb",
   "provenance": []
  },
  "gpuClass": "standard",
  "kernelspec": {
   "display_name": "Python 3 (ipykernel)",
   "language": "python",
   "name": "python3"
  },
  "language_info": {
   "codemirror_mode": {
    "name": "ipython",
    "version": 3
   },
   "file_extension": ".py",
   "mimetype": "text/x-python",
   "name": "python",
   "nbconvert_exporter": "python",
   "pygments_lexer": "ipython3",
   "version": "3.10.9"
  }
 },
 "nbformat": 4,
 "nbformat_minor": 5
}
