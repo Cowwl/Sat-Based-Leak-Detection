{
 "cells": [
  {
   "cell_type": "code",
   "execution_count": 14,
   "id": "FytwQUftCUhF",
   "metadata": {
    "colab": {
     "base_uri": "https://localhost:8080/"
    },
    "id": "FytwQUftCUhF",
    "outputId": "26f89063-ad98-4a69-e885-fe421bdbf5fe"
   },
   "outputs": [],
   "source": [
    "import anvil.server\n",
    "\n",
    "anvil.server.connect(\"GRKV4EIO5RDXHXRKLH4IJZS3-BJUSERB54JPU2SV2\")"
   ]
  },
  {
   "cell_type": "code",
   "execution_count": 15,
   "id": "286d7423",
   "metadata": {
    "id": "286d7423"
   },
   "outputs": [],
   "source": [
    "import re, os, collections, itertools, uuid, logging\n",
    "import scipy as sp\n",
    "import collections\n",
    "collections.Callable = collections.abc.Callable\n",
    "from datetime import date\n",
    "import arrow\n",
    "import pyproj\n",
    "import geopandas\n",
    "import time\n",
    "import imageio\n",
    "from PIL import Image\n",
    "from fastai.basics import *\n",
    "import joblib\n",
    "from io import FileIO\n",
    "import numpy\n",
    "import pandas as pd\n",
    "from ipywidgets import widgets\n",
    "from IPython.display import display\n",
    "import ee\n",
    "from shapely.geometry import Point"
   ]
  },
  {
   "cell_type": "markdown",
   "id": "k6uWj-arecK1",
   "metadata": {
    "id": "k6uWj-arecK1"
   },
   "source": [
    "## Initialising Stuff\n"
   ]
  },
  {
   "cell_type": "code",
   "execution_count": 16,
   "id": "8f56b987",
   "metadata": {
    "colab": {
     "base_uri": "https://localhost:8080/"
    },
    "id": "8f56b987",
    "outputId": "0b06f0fc-a74c-494e-b6a9-1a05f37911cd"
   },
   "outputs": [
    {
     "data": {
      "text/html": [
       "<p>To authorize access needed by Earth Engine, open the following\n",
       "        URL in a web browser and follow the instructions:</p>\n",
       "        <p><a href=https://code.earthengine.google.com/client-auth?scopes=https%3A//www.googleapis.com/auth/earthengine%20https%3A//www.googleapis.com/auth/devstorage.full_control&request_id=ptEaaRTRvgBWpIB0Lvaw4aghT7krnYeEkC5qZ7BJLUQ&tc=c2OERP9UHzEHKp7EiGlH7mGv_eM9K7tJqGCnDzCu8_A&cc=I5Sfwb4WWj_aLGQfc1x-FEbFtWfrz0uZK0OZPGFMzdM>https://code.earthengine.google.com/client-auth?scopes=https%3A//www.googleapis.com/auth/earthengine%20https%3A//www.googleapis.com/auth/devstorage.full_control&request_id=ptEaaRTRvgBWpIB0Lvaw4aghT7krnYeEkC5qZ7BJLUQ&tc=c2OERP9UHzEHKp7EiGlH7mGv_eM9K7tJqGCnDzCu8_A&cc=I5Sfwb4WWj_aLGQfc1x-FEbFtWfrz0uZK0OZPGFMzdM</a></p>\n",
       "        <p>The authorization workflow will generate a code, which you\n",
       "        should paste in the box below</p>\n",
       "        "
      ],
      "text/plain": [
       "<IPython.core.display.HTML object>"
      ]
     },
     "metadata": {},
     "output_type": "display_data"
    },
    {
     "name": "stdin",
     "output_type": "stream",
     "text": [
      "Enter verification code:  4/1AVHEtk6w6WqW60bVysZKve4na8Dggvt0IKPCEnvfsFc4Y-DJJUzh3Nq1zws\n"
     ]
    },
    {
     "name": "stdout",
     "output_type": "stream",
     "text": [
      "\n",
      "Successfully saved authorization token.\n",
      "2022-10-16\n",
      "39900.0\n"
     ]
    }
   ],
   "source": [
    "ee.Authenticate()\n",
    "ee.Initialize()\n",
    "\n",
    "helper_dir = str(Path('data/').absolute())\n",
    "if helper_dir not in os.sys.path:\n",
    "    os.sys.path.append(helper_dir)\n",
    "from leak_helpers.earth_engine import display_ee, bands_s2, download_image, bands_s2, bands_s1, bands_l7, bands_l8\n",
    "today = date.today()\n",
    "\n",
    "repo_date_ts = arrow.get(today)\n",
    "chec_date = repo_date_ts.shift(weeks=-24)\n",
    "repo_date_ts = repo_date_ts.format('YYYY-MM-DD')\n",
    "chec_date = chec_date.format('YYYY-MM-DD')\n",
    "print(chec_date)\n",
    "\n",
    "crs_grid = 3857\n",
    "notebook_name='testing_earth_engine-l7-AUTX'\n",
    "ts=arrow.utcnow().format('YYYYMMDD-HH-mm-ss')\n",
    "data_dir = Path('data/')\n",
    "bands = bands_l7\n",
    "\n",
    "# since the lowest res band is 60m and I want to capture neighbours I should get 6+ pixels\n",
    "pixel_length = 400\n",
    "resolution_min = 200 # m\n",
    "time_bin_delta = 60*60*24*28 # how long before a leak to look (in seconds)\n",
    "# TODO get closest but let me filter for time\n",
    "\n",
    "# init\n",
    "temp_dir = Path(tempfile.mkdtemp(prefix=notebook_name+'-', suffix='-'+ts))\n",
    "# output_dir = data_dir.joinpath('{ts:}_{notebook_name:}'.format(ts=ts,notebook_name=notebook_name))\n",
    "output_dir = Path('data/images')\n",
    "cache_dir = output_dir.joinpath('ee_l7_AUTX-leaks_cache_v2')\n",
    "\n",
    "output_dir.mkdir(parents=True, exist_ok=True)\n",
    "temp_dir.mkdir(parents=True, exist_ok=True)\n",
    "cache_dir.mkdir(parents=True, exist_ok=True)\n",
    "\n",
    "logger = logging.getLogger(notebook_name)\n",
    "logger.setLevel(logging.WARN)\n",
    "\n",
    "crs_grid_proj = pyproj.Proj('epsg:%s'%crs_grid)\n",
    "\n",
    "temp_dir, output_dir, cache_dir\n",
    "\n",
    "distance = resolution_min*(pixel_length/2.0-0.5)\n",
    "print(distance)"
   ]
  },
  {
   "cell_type": "code",
   "execution_count": 17,
   "id": "2746c90a",
   "metadata": {
    "id": "2746c90a"
   },
   "outputs": [],
   "source": [
    "def get_boundary(leak, distance=100, maxError=None):\n",
    "    \"\"\"get rectangular around geopandas point\"\"\"\n",
    "    # coords = np.array(leak.geometry.values[0].xy)[:, 0].tolist()\n",
    "    # geom = ee.Geometry.Point(coords)\n",
    "    # boundary = ee.Geometry.buffer(geometry=geom, distance=distance, maxError=maxError)\n",
    "    # rect = boundary.bounds()\n",
    "\n",
    "    # Here we make a boundary in wgs84 that will make an exact rectangle in\n",
    "    # epsg 3857 (aux sphere) so we will get a rectangle when we clip the image\n",
    "    point_aux = np.array(leak.geometry.to_crs(epsg=3857).values[0].xy)[:, 0]\n",
    "    xMin, yMin, xMax, yMax = point_aux[0] - distance, point_aux[1] - distance, point_aux[0] + distance, point_aux[1] + distance\n",
    "\n",
    "    # convert to wgs8\n",
    "    p0 = pyproj.Proj(init='epsg:%s' % 4326)\n",
    "    p1 = pyproj.Proj(init='epsg:%s' % 3857)\n",
    "    bound_grid2 = pyproj.transform(p1, p0, [xMin, xMax], [yMin, yMax])\n",
    "    bound_grid2 = np.array(bound_grid2).T\n",
    "    [xMin, yMin], [xMax, yMax] = bound_grid2.min(0), bound_grid2.max(0)\n",
    "\n",
    "    # make into earth engine rec\n",
    "    rect = ee.Geometry.Rectangle([xMin, yMin, xMax, yMax])\n",
    "    return rect"
   ]
  },
  {
   "cell_type": "code",
   "execution_count": 18,
   "id": "48ab4bdc",
   "metadata": {
    "id": "48ab4bdc"
   },
   "outputs": [],
   "source": [
    "def tifs2np(path, files, pixel_length=None, bands=bands_s2):\n",
    "    \"\"\"Convert tifs to numpy array\"\"\"\n",
    "    tifs = [f for f in files if f.endswith('.tif')]\n",
    "\n",
    "    if pixel_length:\n",
    "        pixel_length = int(pixel_length)\n",
    "\n",
    "    channels = {}\n",
    "    for tif in tifs:\n",
    "        band = tif.split('.')[-2]\n",
    "        # read tif as float32\n",
    "        x = imageio.imread(path.joinpath(tif))\n",
    "        if pixel_length:\n",
    "            if x.shape[-2] != pixel_length or x.shape[-1] != pixel_length:\n",
    "                logger.warn('warning had to reshape band %s from %s to %s' % (band, x.shape, pixel_length))\n",
    "                x = sp.misc.imresize(x, size=(pixel_length, pixel_length), interp='cubic', mode='F')\n",
    "        channels[band] = x\n",
    "\n",
    "    if not pixel_length:\n",
    "        pixel_length = x.shape[1]\n",
    "\n",
    "    logger.debug('keys %s', (channels.keys()))\n",
    "    data = []\n",
    "    for band in bands:\n",
    "        if band not in channels:\n",
    "            channels[band] = np.zeros((pixel_length, pixel_length))\n",
    "        data.append(channels[band])\n",
    "    return np.array(data)"
   ]
  },
  {
   "cell_type": "code",
   "execution_count": 26,
   "id": "WPdkZNuzwMoi",
   "metadata": {
    "id": "WPdkZNuzwMoi"
   },
   "outputs": [],
   "source": [
    "def download_image(clipped_image, scale=10, crs=4326, name=None, cache_dir=temp_dir, progress_bar=False, report=False):\n",
    "    \"\"\"Download image from google earth engine\"\"\"\n",
    "\n",
    "    # TODO add progress bar like https://github.com/fchollet/keras/blob/master/keras/utils/data_utils.py#L103\n",
    "    path = clipped_image.getDownloadURL({\n",
    "        'scale': scale,\n",
    "        'crs': 'EPSG:%s' % crs\n",
    "    })\n",
    "    if name is None:\n",
    "        name = clipped_image.getMapId()['mapid']\n",
    "\n",
    "    # TODO check that it's not too big, but we don't get given clipped size\n",
    "\n",
    "    filename = '{name:}_{crs:}_{scale:}'.format(\n",
    "        name=name, scale=scale, crs=crs)\n",
    "    zip_dwn_file = temp_dir.joinpath(filename + '.zip')\n",
    "    if report:\n",
    "        with tqdm(\n",
    "                unit='B', unit_scale=True, miniters=1, mininterval=1,\n",
    "                desc=path.split('/')[-1][:40]) as t:  # all optional kwargs\n",
    "            zip_dwn_file, r = urllib.request.urlretrieve(\n",
    "                path, zip_dwn_file, reporthook=my_hook(t))\n",
    "    else:\n",
    "        zip_dwn_file, r = urllib.request.urlretrieve(path, zip_dwn_file)\n",
    "    zip_dwn_file\n",
    "\n",
    "    # extract\n",
    "    zfile = zipfile.ZipFile(zip_dwn_file)\n",
    "    extract_dir = cache_dir.joinpath(filename)\n",
    "    zfile.extractall(extract_dir)\n",
    "    #     logger.debug(extract_dir, zip_dwn_file)\n",
    "\n",
    "    files = [str(f.relpath(extract_dir)) for f in extract_dir.iterdir()]\n",
    "    logger.debug('Extracted files %s to %s', files, str(extract_dir))\n",
    "    return extract_dir, files"
   ]
  },
  {
   "cell_type": "markdown",
   "id": "frmQDLkfdcC9",
   "metadata": {
    "id": "frmQDLkfdcC9"
   },
   "source": [
    "## Loading Leaks from Anvil."
   ]
  },
  {
   "cell_type": "code",
   "execution_count": 27,
   "id": "Psz25E8Fe3h7",
   "metadata": {
    "id": "Psz25E8Fe3h7"
   },
   "outputs": [],
   "source": [
    "@anvil.server.callable\n",
    "def load_leak(co_X, co_Y):\n",
    "  X=float(co_X)\n",
    "  Y=float(co_Y)\n",
    "  d = {'col1': ['name1'], 'geometry': [Point(X, Y)]}\n",
    "  gdf = geopandas.GeoDataFrame(d, crs=4326)\n",
    "  gdf\n",
    "  boundary = get_boundary(gdf.geometry, distance=distance)\n",
    "  print(boundary)\n",
    "  sentinel2_before = (ee.ImageCollection('LANDSAT/LE07/C02/T1_RT')\n",
    "        .filterBounds(ee.Geometry.Point(float(X),float(Y)))\n",
    "        .filterDate(chec_date, repo_date_ts)\n",
    "        .sort('system:time_start', opt_ascending=False)\n",
    "       )\n",
    "  image = ee.Image(sentinel2_before.first()).clip(boundary)\n",
    "  print(image.getInfo())\n",
    "  name='test'\n",
    "  path,files=download_image(\n",
    "      image, \n",
    "      scale=resolution_min, \n",
    "      crs=crs_grid, \n",
    "      name=name,\n",
    "      cache_dir=cache_dir\n",
    "  )\n",
    "  data = tifs2np(path,files,bands=bands_l7)\n",
    "  # imgpth = Path('data/images/ee_l7_AUTX-leaks_cache_v2/test_3857_200/').absolute()\n",
    "  # for i in imgpth.glob('*B5.tif'):\n",
    "  #   imgpth = Path(i).absolute()\n",
    "  # print(imgpth)\n",
    "  # im = Image.open(imgpth) \n",
    "  # show_image(im)\n",
    "  # newpath = Path('/content/drive/Othercomputers/My Laptop (1)/Academics/PS-1/ok/export.pkl').absolute()\n",
    "  # newerpath= Path('/content/drive/Othercomputers/My Laptop (1)/Academics/PS-1/imahges/ee_l7_AUTX-leaks_cache_v2/test_3857_200/LE07_138045_20220404.B5.tif').absolute()\n",
    "  return True"
   ]
  },
  {
   "cell_type": "markdown",
   "id": "tUDyzvSFgMn5",
   "metadata": {
    "id": "tUDyzvSFgMn5"
   },
   "source": [
    "##Predicting the leak"
   ]
  },
  {
   "cell_type": "code",
   "execution_count": 28,
   "id": "46868cd6",
   "metadata": {
    "id": "46868cd6"
   },
   "outputs": [
    {
     "name": "stdout",
     "output_type": "stream",
     "text": [
      "/home/jovyan/data/images/ee_l7_AUTX-leaks_cache_v2/test_3857_200/LE07_182046_20230316.B5.tif\n",
      "/home/jovyan/data/images/ee_l7_AUTX-leaks_cache_v2/test_3857_200/LE07_184039_20230326.B5.tif\n"
     ]
    }
   ],
   "source": [
    "newpath = Path('data/export.pkl').absolute()\n",
    "newerpath = Path('data/images/ee_l7_AUTX-leaks_cache_v2/test_3857_200').absolute()\n",
    "for i in newerpath.glob('*B5.tif'):\n",
    "    print(i)\n",
    "    newerpath = Path(i).absolute()\n",
    "@anvil.server.callable\n",
    "def predict_leak():\n",
    "  time.sleep(5)\n",
    "  print(newerpath)\n",
    "  learn_inf = load_learner(newpath)\n",
    "  pred,pred_idx,probs = learn_inf.predict(newerpath)\n",
    "  lbl_pred = widgets.Label()\n",
    "  print(\"in predict leak\")\n",
    "  lbl_pred.value = f'Prediction: {pred}; Probability: {probs[pred_idx]:.04f}'\n",
    "  lbl_pred\n",
    "  return pred"
   ]
  },
  {
   "cell_type": "code",
   "execution_count": null,
   "id": "1517ae04",
   "metadata": {
    "colab": {
     "background_save": true,
     "base_uri": "https://localhost:8080/",
     "height": 1000
    },
    "id": "1517ae04",
    "outputId": "9ccb7ad7-4736-4734-b4ae-58866b160dc4"
   },
   "outputs": [
    {
     "name": "stderr",
     "output_type": "stream",
     "text": [
      "/srv/conda/envs/notebook/lib/python3.10/site-packages/pyproj/crs/crs.py:141: FutureWarning: '+init=<authority>:<code>' syntax is deprecated. '<authority>:<code>' is the preferred initialization method. When making the change, be mindful of axis order changes: https://pyproj4.github.io/pyproj/stable/gotchas.html#axis-order-changes-in-proj-6\n",
      "  in_crs_string = _prepare_from_proj_string(in_crs_string)\n",
      "/srv/conda/envs/notebook/lib/python3.10/site-packages/pyproj/crs/crs.py:141: FutureWarning: '+init=<authority>:<code>' syntax is deprecated. '<authority>:<code>' is the preferred initialization method. When making the change, be mindful of axis order changes: https://pyproj4.github.io/pyproj/stable/gotchas.html#axis-order-changes-in-proj-6\n",
      "  in_crs_string = _prepare_from_proj_string(in_crs_string)\n",
      "/tmp/ipykernel_67/1390111849.py:16: FutureWarning: This function is deprecated. See: https://pyproj4.github.io/pyproj/stable/gotchas.html#upgrading-to-pyproj-2-from-pyproj-1\n",
      "  bound_grid2 = pyproj.transform(p1, p0, [xMin, xMax], [yMin, yMax])\n"
     ]
    },
    {
     "name": "stdout",
     "output_type": "stream",
     "text": [
      "ee.Geometry({\n",
      "  \"functionInvocationValue\": {\n",
      "    \"functionName\": \"GeometryConstructors.Polygon\",\n",
      "    \"arguments\": {\n",
      "      \"coordinates\": {\n",
      "        \"constantValue\": [\n",
      "          [\n",
      "            [\n",
      "              19.64157220163631,\n",
      "              20.336449959510034\n",
      "            ],\n",
      "            [\n",
      "              19.64157220163631,\n",
      "              19.662829410801177\n",
      "            ],\n",
      "            [\n",
      "              20.35842779836369,\n",
      "              19.662829410801177\n",
      "            ],\n",
      "            [\n",
      "              20.35842779836369,\n",
      "              20.336449959510034\n",
      "            ]\n",
      "          ]\n",
      "        ]\n",
      "      },\n",
      "      \"evenOdd\": {\n",
      "        \"constantValue\": true\n",
      "      }\n",
      "    }\n",
      "  }\n",
      "})\n",
      "{'type': 'Image', 'bands': [{'id': 'B1', 'data_type': {'type': 'PixelType', 'precision': 'int', 'min': 0, 'max': 255}, 'dimensions': [2515, 2501], 'origin': [2990, 3183], 'crs': 'EPSG:32634', 'crs_transform': [30, 0, 267885, 0, -30, 2344815]}, {'id': 'B2', 'data_type': {'type': 'PixelType', 'precision': 'int', 'min': 0, 'max': 255}, 'dimensions': [2515, 2501], 'origin': [2990, 3183], 'crs': 'EPSG:32634', 'crs_transform': [30, 0, 267885, 0, -30, 2344815]}, {'id': 'B3', 'data_type': {'type': 'PixelType', 'precision': 'int', 'min': 0, 'max': 255}, 'dimensions': [2515, 2501], 'origin': [2990, 3183], 'crs': 'EPSG:32634', 'crs_transform': [30, 0, 267885, 0, -30, 2344815]}, {'id': 'B4', 'data_type': {'type': 'PixelType', 'precision': 'int', 'min': 0, 'max': 255}, 'dimensions': [2515, 2501], 'origin': [2990, 3183], 'crs': 'EPSG:32634', 'crs_transform': [30, 0, 267885, 0, -30, 2344815]}, {'id': 'B5', 'data_type': {'type': 'PixelType', 'precision': 'int', 'min': 0, 'max': 255}, 'dimensions': [2515, 2501], 'origin': [2990, 3183], 'crs': 'EPSG:32634', 'crs_transform': [30, 0, 267885, 0, -30, 2344815]}, {'id': 'B6_VCID_1', 'data_type': {'type': 'PixelType', 'precision': 'int', 'min': 0, 'max': 255}, 'dimensions': [2515, 2501], 'origin': [2990, 3183], 'crs': 'EPSG:32634', 'crs_transform': [30, 0, 267885, 0, -30, 2344815]}, {'id': 'B6_VCID_2', 'data_type': {'type': 'PixelType', 'precision': 'int', 'min': 0, 'max': 255}, 'dimensions': [2515, 2501], 'origin': [2990, 3183], 'crs': 'EPSG:32634', 'crs_transform': [30, 0, 267885, 0, -30, 2344815]}, {'id': 'B7', 'data_type': {'type': 'PixelType', 'precision': 'int', 'min': 0, 'max': 255}, 'dimensions': [2515, 2501], 'origin': [2990, 3183], 'crs': 'EPSG:32634', 'crs_transform': [30, 0, 267885, 0, -30, 2344815]}, {'id': 'B8', 'data_type': {'type': 'PixelType', 'precision': 'int', 'min': 0, 'max': 255}, 'dimensions': [5031, 5001], 'origin': [5979, 6367], 'crs': 'EPSG:32634', 'crs_transform': [15, 0, 267892.5, 0, -15, 2344807.5]}, {'id': 'QA_PIXEL', 'data_type': {'type': 'PixelType', 'precision': 'int', 'min': 0, 'max': 65535}, 'dimensions': [2515, 2501], 'origin': [2990, 3183], 'crs': 'EPSG:32634', 'crs_transform': [30, 0, 267885, 0, -30, 2344815]}, {'id': 'QA_RADSAT', 'data_type': {'type': 'PixelType', 'precision': 'int', 'min': 0, 'max': 65535}, 'dimensions': [2515, 2501], 'origin': [2990, 3183], 'crs': 'EPSG:32634', 'crs_transform': [30, 0, 267885, 0, -30, 2344815]}, {'id': 'SAA', 'data_type': {'type': 'PixelType', 'precision': 'int', 'min': -32768, 'max': 32767}, 'dimensions': [2515, 2501], 'origin': [2990, 3183], 'crs': 'EPSG:32634', 'crs_transform': [30, 0, 267885, 0, -30, 2344815]}, {'id': 'SZA', 'data_type': {'type': 'PixelType', 'precision': 'int', 'min': -32768, 'max': 32767}, 'dimensions': [2515, 2501], 'origin': [2990, 3183], 'crs': 'EPSG:32634', 'crs_transform': [30, 0, 267885, 0, -30, 2344815]}, {'id': 'VAA', 'data_type': {'type': 'PixelType', 'precision': 'int', 'min': -32768, 'max': 32767}, 'dimensions': [2515, 2501], 'origin': [2990, 3183], 'crs': 'EPSG:32634', 'crs_transform': [30, 0, 267885, 0, -30, 2344815]}, {'id': 'VZA', 'data_type': {'type': 'PixelType', 'precision': 'int', 'min': -32768, 'max': 32767}, 'dimensions': [2515, 2501], 'origin': [2990, 3183], 'crs': 'EPSG:32634', 'crs_transform': [30, 0, 267885, 0, -30, 2344815]}], 'id': 'LANDSAT/LE07/C02/T1_RT/LE07_182046_20230316', 'version': 1679079887919253, 'properties': {'system:footprint': {'type': 'Polygon', 'coordinates': [[[19.64157220163631, 19.662829410801177], [20.35842779836369, 19.662829410801177], [20.35842779836369, 20.33644995951003], [19.641572201636308, 20.33644995951003], [19.64157220163631, 19.662829410801177]]]}, 'RADIANCE_MULT_BAND_5': 0.19122, 'IMAGE_QUALITY': 9, 'RADIANCE_MULT_BAND_3': 0.94252, 'RADIANCE_MULT_BAND_4': 0.96929, 'RADIANCE_MULT_BAND_1': 1.1807, 'RADIANCE_MULT_BAND_2': 1.2098, 'WRS_TYPE': 2, 'CORRECTION_GAIN_BAND_6_VCID_2': 'CPF', 'CORRECTION_GAIN_BAND_6_VCID_1': 'CPF', 'CORRECTION_GAIN_BAND_2': 'CPF', 'CORRECTION_GAIN_BAND_1': 'CPF', 'REFLECTIVE_SAMPLES': 8061, 'CORRECTION_GAIN_BAND_8': 'CPF', 'CORRECTION_GAIN_BAND_7': 'CPF', 'CORRECTION_GAIN_BAND_5': 'CPF', 'SUN_AZIMUTH': 105.41511005, 'CORRECTION_GAIN_BAND_4': 'CPF', 'CORRECTION_GAIN_BAND_3': 'CPF', 'GAIN_CHANGE_BAND_7': 'LL', 'GAIN_CHANGE_BAND_8': 'LL', 'GAIN_CHANGE_BAND_5': 'LL', 'DATE_ACQUIRED': '2023-03-16', 'GAIN_CHANGE_BAND_3': 'LL', 'ELLIPSOID': 'WGS84', 'GAIN_CHANGE_BAND_4': 'LL', 'GAIN_CHANGE_BAND_1': 'LL', 'GAIN_CHANGE_BAND_2': 'LL', 'RADIANCE_ADD_BAND_6_VCID_1': -0.06709, 'RADIANCE_ADD_BAND_6_VCID_2': 3.1628, 'SENSOR_MODE': 'BUMPER', 'STATION_ID': 'ASN', 'RESAMPLING_OPTION': 'CUBIC_CONVOLUTION', 'ORIENTATION': 'NORTH_UP', 'WRS_ROW': 46, 'GAIN_BAND_6_VCID_2': 'H', 'RADIANCE_MULT_BAND_7': 0.066496, 'GAIN_BAND_6_VCID_1': 'L', 'RADIANCE_MULT_BAND_8': 0.97559, 'CLOUD_COVER': 0, 'COLLECTION_CATEGORY': 'RT', 'GRID_CELL_SIZE_REFLECTIVE': 30, 'RADIANCE_MULT_BAND_6_VCID_1': 0.067087, 'CLOUD_COVER_LAND': 0, 'RADIANCE_MULT_BAND_6_VCID_2': 0.037205, 'GEOMETRIC_RMSE_MODEL': 4.043, 'COLLECTION_NUMBER': 2, 'LANDSAT_SCENE_ID': 'LE71820462023075ASN00', 'WRS_PATH': 182, 'PANCHROMATIC_SAMPLES': 16121, 'PANCHROMATIC_LINES': 14061, 'GEOMETRIC_RMSE_MODEL_Y': 3.058, 'REFLECTIVE_LINES': 7031, 'GEOMETRIC_RMSE_MODEL_X': 2.645, 'system:asset_size': 289953665, 'system:index': 'LE07_182046_20230316', 'DATA_SOURCE_ELEVATION': 'GLS2000', 'SENSOR_ANOMALIES': 'NONE', 'GAIN_BAND_4': 'L', 'REFLECTANCE_ADD_BAND_1': -0.011266, 'GAIN_BAND_5': 'L', 'REFLECTANCE_ADD_BAND_2': -0.012743, 'DATUM': 'WGS84', 'GAIN_BAND_2': 'L', 'REFLECTANCE_ADD_BAND_3': -0.01211, 'GAIN_BAND_3': 'L', 'REFLECTANCE_ADD_BAND_4': -0.017612, 'GAIN_BAND_8': 'L', 'REFLECTANCE_ADD_BAND_5': -0.016706, 'REFLECTANCE_ADD_BAND_7': -0.01591, 'GAIN_BAND_7': 'L', 'REFLECTANCE_ADD_BAND_8': -0.013373, 'GROUND_CONTROL_POINTS_VERSION': 5, 'GAIN_BAND_1': 'L', 'K2_CONSTANT_BAND_6_VCID_2': 1282.71, 'K2_CONSTANT_BAND_6_VCID_1': 1282.71, 'CORRECTION_BIAS_BAND_2': 'INTERNAL_CALIBRATION', 'CORRECTION_BIAS_BAND_1': 'INTERNAL_CALIBRATION', 'CORRECTION_BIAS_BAND_4': 'INTERNAL_CALIBRATION', 'CORRECTION_BIAS_BAND_3': 'INTERNAL_CALIBRATION', 'GAIN_CHANGE_SCAN_BAND_6_VCID_1': 0, 'UTM_ZONE': 34, 'GAIN_CHANGE_SCAN_BAND_6_VCID_2': 0, 'system:time_end': 1678950468819, 'LANDSAT_PRODUCT_ID': 'LE07_L1TP_182046_20230316_20230316_02_RT', 'GRID_CELL_SIZE_PANCHROMATIC': 15, 'RADIANCE_ADD_BAND_4': -6.06929, 'REFLECTANCE_MULT_BAND_7': 0.0025401, 'system:time_start': 1678950468819, 'RADIANCE_ADD_BAND_5': -1.19122, 'PROCESSING_SOFTWARE_VERSION': 'LPGS_16.2.0', 'RADIANCE_ADD_BAND_7': -0.4165, 'REFLECTANCE_MULT_BAND_8': 0.0022987, 'EPHEMERIS_TYPE': 'DEFINITIVE', 'RADIANCE_ADD_BAND_1': -7.38071, 'RADIANCE_ADD_BAND_2': -7.60984, 'RADIANCE_ADD_BAND_3': -5.94252, 'K1_CONSTANT_BAND_6_VCID_2': 666.09, 'CORRECTION_BIAS_BAND_6_VCID_2': 'INTERNAL_CALIBRATION', 'REFLECTANCE_MULT_BAND_1': 0.0018023, 'CORRECTION_BIAS_BAND_6_VCID_1': 'INTERNAL_CALIBRATION', 'RADIANCE_ADD_BAND_8': -5.67559, 'REFLECTANCE_MULT_BAND_3': 0.0019208, 'CORRECTION_BIAS_BAND_5': 'INTERNAL_CALIBRATION', 'REFLECTANCE_MULT_BAND_2': 0.0020259, 'CORRECTION_BIAS_BAND_8': 'INTERNAL_CALIBRATION', 'REFLECTANCE_MULT_BAND_5': 0.0026818, 'CORRECTION_BIAS_BAND_7': 'INTERNAL_CALIBRATION', 'K1_CONSTANT_BAND_6_VCID_1': 666.09, 'REFLECTANCE_MULT_BAND_4': 0.0028127, 'THERMAL_LINES': 7031, 'GAIN_CHANGE_SCAN_BAND_1': 0, 'GRID_CELL_SIZE_THERMAL': 30, 'GAIN_CHANGE_SCAN_BAND_2': 0, 'GAIN_CHANGE_SCAN_BAND_3': 0, 'GAIN_CHANGE_SCAN_BAND_4': 0, 'GAIN_CHANGE_SCAN_BAND_5': 0, 'REQUEST_ID': '1659319_00006', 'EARTH_SUN_DISTANCE': 0.9946151, 'SCENE_CENTER_TIME': '07:07:48.8196152Z', 'SUN_ELEVATION': 31.53156744, 'SATURATION_BAND_6_VCID_1': 'N', 'SATURATION_BAND_6_VCID_2': 'N', 'SCAN_GAP_INTERPOLATION': 2, 'DATE_PRODUCT_GENERATED': 1678984050000, 'SATURATION_BAND_1': 'N', 'SENSOR_MODE_SLC': 'OFF', 'SATURATION_BAND_2': 'N', 'SATURATION_BAND_3': 'N', 'SATURATION_BAND_4': 'N', 'SATURATION_BAND_5': 'N', 'MAP_PROJECTION': 'UTM', 'SENSOR_ID': 'ETM', 'SATURATION_BAND_7': 'N', 'SATURATION_BAND_8': 'N', 'PROCESSING_LEVEL': 'L1TP', 'GROUND_CONTROL_POINTS_MODEL': 1039, 'SPACECRAFT_ID': 'LANDSAT_7', 'GAIN_CHANGE_SCAN_BAND_7': 0, 'GAIN_CHANGE_SCAN_BAND_8': 0, 'GAIN_CHANGE_BAND_6_VCID_1': 'LL', 'GAIN_CHANGE_BAND_6_VCID_2': 'HH', 'THERMAL_SAMPLES': 8061}}\n"
     ]
    },
    {
     "name": "stderr",
     "output_type": "stream",
     "text": [
      "/tmp/ipykernel_67/2881063094.py:12: DeprecationWarning: Starting with ImageIO v3 the behavior of this function will switch to that of iio.v3.imread. To keep the current behavior (and make this warning dissapear) use `import imageio.v2 as imageio` or call `imageio.v2.imread` directly.\n",
      "  x = imageio.imread(path.joinpath(tif))\n"
     ]
    },
    {
     "name": "stdout",
     "output_type": "stream",
     "text": [
      "/home/jovyan/data/images/ee_l7_AUTX-leaks_cache_v2/test_3857_200/LE07_184039_20230326.B5.tif\n"
     ]
    },
    {
     "data": {
      "text/html": [
       "\n",
       "<style>\n",
       "    /* Turns off some styling */\n",
       "    progress {\n",
       "        /* gets rid of default border in Firefox and Opera. */\n",
       "        border: none;\n",
       "        /* Needs to be in here for Safari polyfill so background images work as expected. */\n",
       "        background-size: auto;\n",
       "    }\n",
       "    .progress-bar-interrupted, .progress-bar-interrupted::-webkit-progress-bar {\n",
       "        background: #F44336;\n",
       "    }\n",
       "</style>\n"
      ],
      "text/plain": [
       "<IPython.core.display.HTML object>"
      ]
     },
     "metadata": {},
     "output_type": "display_data"
    },
    {
     "data": {
      "text/html": [],
      "text/plain": [
       "<IPython.core.display.HTML object>"
      ]
     },
     "metadata": {},
     "output_type": "display_data"
    },
    {
     "name": "stdout",
     "output_type": "stream",
     "text": [
      "in predict leak\n"
     ]
    }
   ],
   "source": [
    "anvil.server.wait_forever()"
   ]
  },
  {
   "cell_type": "code",
   "execution_count": null,
   "id": "5922590c-8750-49a3-b28c-4295701d6926",
   "metadata": {},
   "outputs": [],
   "source": []
  }
 ],
 "metadata": {
  "colab": {
   "name": "Final_Dep.ipynb",
   "provenance": []
  },
  "gpuClass": "standard",
  "kernelspec": {
   "display_name": "Python 3 (ipykernel)",
   "language": "python",
   "name": "python3"
  },
  "language_info": {
   "codemirror_mode": {
    "name": "ipython",
    "version": 3
   },
   "file_extension": ".py",
   "mimetype": "text/x-python",
   "name": "python",
   "nbconvert_exporter": "python",
   "pygments_lexer": "ipython3",
   "version": "3.10.9"
  }
 },
 "nbformat": 4,
 "nbformat_minor": 5
}
